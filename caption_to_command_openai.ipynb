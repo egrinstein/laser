{
 "cells": [
  {
   "cell_type": "code",
   "execution_count": 39,
   "id": "ef41148d-3f2c-4281-9bbf-045df002a1c6",
   "metadata": {},
   "outputs": [
    {
     "name": "stdout",
     "output_type": "stream",
     "text": [
      "{\n",
      "    \"result\": [\n",
      "        {\n",
      "            \"command\": \"Enhance the sound of the woman talking nearby and the water pouring while reducing the sound of the man screaming\",\n",
      "            \"type\": \"mixed\"\n",
      "        },\n",
      "        {\n",
      "            \"command\": \"Isolate the sound of the woman talking nearby and the water pouring\",\n",
      "            \"type\": \"positive\"\n",
      "        },\n",
      "        {\n",
      "            \"command\": \"Remove the sound of the man screaming from the audio\",\n",
      "            \"type\": \"negative\"\n",
      "        },\n",
      "        {\n",
      "            \"command\": \"Minimize the sound of the man screaming and focus on the woman talking nearby and the water pouring\",\n",
      "            \"type\": \"mixed\"\n",
      "        },\n",
      "        {\n",
      "            \"command\": \"Enhance the woman's voice and the water pouring sounds\",\n",
      "            \"type\": \"positive\"\n",
      "        }\n",
      "    ]\n",
      "}\n"
     ]
    }
   ],
   "source": [
    "from openai import OpenAI\n",
    "client = OpenAI()\n",
    "\n",
    "COMMAND = \"\"\"\n",
    "Given a target and an interferer captions referring to an audio scene,\n",
    "create a json with a key 'result',\n",
    "whose value contains a list of 5 separation command options. A separation is itself a json containing\n",
    "two keys, 'command' and 'type'. A separation command be one of 3 types, 'positive', 'negative' or 'mixed'.\n",
    "For example:\n",
    "\n",
    "Target: A woman talks nearby as water pours\n",
    "Interferer: Dishes are clanging\n",
    "\n",
    "Positive command example: Enhance the sound of the woman talking nearby and the water pouring\n",
    "Negative command example: Remove the clanging dishes from the audio\n",
    "Mixed command example: Keep the sound of the woman talking nearby and the water pouring, and exclude the clanging dishes from the mix\n",
    "\"\"\"\n",
    "\n",
    "\n",
    "def captions_to_command(target_caption, interferer_caption, client: OpenAI):\n",
    "    return client.chat.completions.create(\n",
    "      model=\"gpt-3.5-turbo\",\n",
    "      messages=[\n",
    "        {\"role\": \"system\", \"content\": \"You are an AI assistant working in the field of Language-Queried Audio Sound Separation (LASS).\"},\n",
    "        {\"role\": \"user\", \"content\": COMMAND},\n",
    "        {\"role\": \"user\", \"content\": f\"Target: {target_caption}\"},\n",
    "        {\"role\": \"user\", \"content\": f\"Interferer: {interferer_caption}\"},\n",
    "      ],\n",
    "      response_format = { \"type\": \"json_object\" }\n",
    "    ).choices[0].message.content\n",
    "\n",
    "\n",
    "TARGET_CAPTION = \"A woman talks nearby as water pours\"\n",
    "INTERFERER_CAPTION = \"A man screaming\"\n",
    "response = captions_to_command(TARGET_CAPTION, INTERFERER_CAPTION, client)\n",
    "\n",
    "print(response)"
   ]
  },
  {
   "cell_type": "code",
   "execution_count": null,
   "id": "54d582a1-c08b-4c99-81b2-731749e9c6fe",
   "metadata": {},
   "outputs": [],
   "source": [
    "A man making a speech"
   ]
  }
 ],
 "metadata": {
  "kernelspec": {
   "display_name": "Python 3 (ipykernel)",
   "language": "python",
   "name": "python3"
  },
  "language_info": {
   "codemirror_mode": {
    "name": "ipython",
    "version": 3
   },
   "file_extension": ".py",
   "mimetype": "text/x-python",
   "name": "python",
   "nbconvert_exporter": "python",
   "pygments_lexer": "ipython3",
   "version": "3.11.5"
  }
 },
 "nbformat": 4,
 "nbformat_minor": 5
}
